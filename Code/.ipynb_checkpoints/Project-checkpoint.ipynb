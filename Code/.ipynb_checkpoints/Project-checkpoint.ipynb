{
 "cells": [
  {
   "cell_type": "markdown",
   "metadata": {},
   "source": [
    "# Effect of Travel on Baseball Performance\n",
    "***\n",
    "**Team Members:** Brandon Zink, Cameron Connor, Abiel Fattore\n",
    "\n",
    "In this project, we will look at the effect of travel in terms of distance in miles and number of time zones changed on the traveling teams performance."
   ]
  },
  {
   "cell_type": "code",
   "execution_count": 10,
   "metadata": {},
   "outputs": [],
   "source": [
    "import numpy as np \n",
    "import pandas as pd\n",
    "import matplotlib.pylab as plt\n",
    "%matplotlib inline\n",
    "from math import sin, cos, sqrt, atan2, radians"
   ]
  },
  {
   "cell_type": "code",
   "execution_count": null,
   "metadata": {
    "collapsed": true
   },
   "outputs": [],
   "source": [
    "#Read in the data, store in appropriate data frames\n",
    "\n",
    "dfStadiumsInfo = pd.read_csv('data/Stadium_Info.csv')\n"
   ]
  },
  {
   "cell_type": "code",
   "execution_count": 4,
   "metadata": {
    "collapsed": true
   },
   "outputs": [],
   "source": [
    "#Team ID Lookup\n",
    "#This is used across multiple functions to give each team a specific number that can be used in lookups (returns 0 through 29, else -1)\n",
    "\n",
    "def team_ID_lookup(teamID):\n",
    "    teamMatrix = ['ANA','ARI','ATL','BAL','BOS','CHN','CHA','CIN','CLE','COL','DET','FLO','HOU','KCA','LAN','MIL','MIN','WAS','NYN','NYA','OAK','PHI','PIT','SLN','SDN','SFN','SEA','TBA','TEX','TOR']\n",
    "    for i in range (0,30):\n",
    "        if(teamMatrix[i] == teamID):\n",
    "            return i\n",
    "    return -1"
   ]
  },
  {
   "cell_type": "code",
   "execution_count": 8,
   "metadata": {},
   "outputs": [],
   "source": [
    "#Find Distance\n",
    "#This function finds the distance between two sets of lat, long\n",
    "\n",
    "def find_distance(latitude1, longitude1, latitude2, longitude2):\n",
    "    # approximate radius of earth in mi\n",
    "    R = 3959.0\n",
    "\n",
    "    lat1 = radians(latitude1)\n",
    "    lon1 = radians(longitude1)\n",
    "    lat2 = radians(latitude2)\n",
    "    lon2 = radians(longitude2)\n",
    "\n",
    "    dlon = lon2 - lon1\n",
    "    dlat = lat2 - lat1\n",
    "\n",
    "    a = sin(dlat / 2)**2 + cos(lat1) * cos(lat2) * sin(dlon / 2)**2\n",
    "    c = 2 * atan2(sqrt(a), sqrt(1 - a))\n",
    "\n",
    "    distance = R * c\n",
    "    return distance\n"
   ]
  },
  {
   "cell_type": "code",
   "execution_count": 12,
   "metadata": {},
   "outputs": [],
   "source": [
    "#Gets the distance stored in the distance matrix, returns 0 if not yet updated\n",
    "\n",
    "def get_distance_matrix(matrix, team1ID, team2ID):\n",
    "    if(matrix[team1ID][team2ID] > 0):\n",
    "        return matrix[team1ID][team2ID]\n",
    "    else if (matrix[team2ID][team1ID] > 0):\n",
    "        return matrix[team2ID][team1ID]\n",
    "    else:\n",
    "        return 0"
   ]
  },
  {
   "cell_type": "code",
   "execution_count": 14,
   "metadata": {},
   "outputs": [],
   "source": [
    "#Creates/resets the distance matrix to all 0, returns the matrix\n",
    "\n",
    "def start_distance_matrix():\n",
    "    return np.zeros((30, 30), dtype=float)"
   ]
  },
  {
   "cell_type": "code",
   "execution_count": 17,
   "metadata": {
    "collapsed": true
   },
   "outputs": [],
   "source": [
    "#Updates a position in the matrix to the specified distance, returns the input matrix\n",
    "\n",
    "def update_distance_matrix(matrix, team1ID, team2ID, distance):\n",
    "    matrix[team1ID][team2ID] = distance\n",
    "    matrix[team2ID][team1ID] = distance\n",
    "    return matrix"
   ]
  },
  {
   "cell_type": "code",
   "execution_count": null,
   "metadata": {},
   "outputs": [],
   "source": []
  },
  {
   "cell_type": "code",
   "execution_count": null,
   "metadata": {
    "collapsed": true
   },
   "outputs": [],
   "source": []
  }
 ],
 "metadata": {
  "kernelspec": {
   "display_name": "Python 3",
   "language": "python",
   "name": "python3"
  },
  "language_info": {
   "codemirror_mode": {
    "name": "ipython",
    "version": 3
   },
   "file_extension": ".py",
   "mimetype": "text/x-python",
   "name": "python",
   "nbconvert_exporter": "python",
   "pygments_lexer": "ipython3",
   "version": "3.6.3"
  }
 },
 "nbformat": 4,
 "nbformat_minor": 2
}

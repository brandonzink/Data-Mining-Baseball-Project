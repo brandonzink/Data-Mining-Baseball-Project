{
 "cells": [
  {
   "cell_type": "markdown",
   "metadata": {},
   "source": [
    "# Effect of Travel on Baseball Performance\n",
    "***\n",
    "**Team Members:** Brandon Zink, Cameron Connor, Abiel Fattore\n",
    "\n",
    "In this project, we will look at the effect of travel in terms of distance in miles and number of time zones changed on the traveling teams performance."
   ]
  },
  {
   "cell_type": "code",
   "execution_count": 2,
   "metadata": {
    "collapsed": true
   },
   "outputs": [],
   "source": [
    "import numpy as np \n",
    "import pandas as pd\n",
    "import matplotlib.pylab as plt\n",
    "%matplotlib inline\n",
    "from math import sin, cos, sqrt, atan2, radians"
   ]
  },
  {
   "cell_type": "code",
   "execution_count": 3,
   "metadata": {},
   "outputs": [
    {
     "data": {
      "text/plain": [
       "['teamName', 'teamID', 'lat', 'long', 'timeZone']"
      ]
     },
     "execution_count": 3,
     "metadata": {},
     "output_type": "execute_result"
    }
   ],
   "source": [
    "#Read in the data, store in appropriate data frames\n",
    "\n",
    "dfStadiumsInfo = pd.read_csv('data/Stadium_Info.csv')\n",
    "\n",
    "#Import and clean the game logs data\n",
    "dfGameInfo = pd.read_csv('data/Game_Logs.csv', low_memory=False, header=None)\n",
    "#Name all of the columns\n",
    "dfGameInfo.columns = (['date','gameNumber','day','awayTeam','awayTeamLg','awayTeamGmNmbr','homeTeam','homeTeamLg','homeTeamGmNmbr','awayScore','homeScore','lengthInOuts','timeOfDay','completion','forfeit','protest','parkID','attendance','lengthOfGameInMinutes','awayLineScore','homeLineScore','awayAB','awayH','away2B','away3B','awayHR','awayRBI','awaySH','awaySF','awayHBP','awayBB','awayIBB','awaySO','awaySB','awayCS','awayGIDP','awayCatchInf','awayLOB','awayPitchersUsed','awayIndivER','awayER','awayWildPitch','awayBalk','awayPO','awayAssists','awayE','awayPassedBalls','awayDoubPlay','awayTripPlay','homeAB','homeH','home2B','home3B','homeHR','homeRBI','homeSH','homeSF','homeHBP','homeBB','homeIBB','homeSO','homeSB','homeCS','homeGIDP','homeCatchInf','homeLOB','homePitchersUsed','homeIndivER','homeER','homeWildPitch','homeBalk','homePO','homeAssists','homeE','homePassedBalls','homeDoubPlay','homeTripPlay','homePlateUmpID','homePlateUmpName','1BUmpID','1BUmpName','2BUmpID','2BUmpName','3BUmpID','3BUmpName','LFUmpID','LFUmpName','RFUmpID','RFUmpName','awayManagerID','awayManagerName','homeManagerID','homeManagerName','winPitcherID','winPitcherName','losePitcherID','losePitcherName','savePitcherID','savePitcherName','GWRBIHitterID','GWRBIHitterName','awaySPID','awaySPName','homeSPID','homeSPName','away1ID','away1Name','away1POS','away2ID','away2Name','away2POS','away3ID','away3Name','away3POS','away4ID','away4Name','away4POS','away5ID','away5Name','away5POS','away6ID','away6Name','away6POS','away7ID','away7Name','away7POS','away8ID','away8Name','away8POS','away9ID','away9Name','away9POS','home1ID','home1Name','home1POS','home2ID','home2Name','home2POS','home3ID','home3Name','home3POS','home4ID','home4Name','home4POS','home5ID','home5Name','home5POS','home6ID','home6Name','home6POS','home7ID','home7Name','home7POS','home8ID','home8Name','home8POS','home9ID','home9Name','home9POS','addInfo','infoAquisition'])\n",
    "#Remove the last two digits of parkID since they are useless\n",
    "dfGameInfo['parkID'] = dfGameInfo['parkID'].astype(str).str[:-2].astype(str)\n",
    "#Get rid of games in Tokyo, Montreal, Puerto Rico, Disney World, Sydney, Fort Bragg\n",
    "dfGameInfo = dfGameInfo[dfGameInfo['parkID'] != 'TOK']\n",
    "dfGameInfo = dfGameInfo[dfGameInfo['parkID'] != 'MON']\n",
    "dfGameInfo = dfGameInfo[dfGameInfo['parkID'] != 'SJU']\n",
    "dfGameInfo = dfGameInfo[dfGameInfo['parkID'] != 'LBV']\n",
    "dfGameInfo = dfGameInfo[dfGameInfo['parkID'] != 'SYD']\n",
    "dfGameInfo = dfGameInfo[dfGameInfo['parkID'] != 'FTB']\n",
    "\n",
    "list(dfStadiumsInfo)"
   ]
  },
  {
   "cell_type": "code",
   "execution_count": 4,
   "metadata": {
    "collapsed": true
   },
   "outputs": [],
   "source": [
    "#Team ID Lookup\n",
    "#This is used across multiple functions to give each team a specific number that can be used in lookups (returns 0 through 29, else -1)\n",
    "\n",
    "def team_ID_lookup(teamID):\n",
    "    teamMatrix = ['ANA','ARI','ATL','BAL','BOS','CHN','CHA','CIN','CLE','COL','DET','FLO','HOU','KCA','LAN','MIL','MIN','WAS','NYN','NYA','OAK','PHI','PIT','SLN','SDN','SFN','SEA','TBA','TEX','TOR']\n",
    "    for i in range (0,30):\n",
    "        if(teamMatrix[i] == teamID):\n",
    "            return i\n",
    "    return -1"
   ]
  },
  {
   "cell_type": "code",
   "execution_count": 5,
   "metadata": {
    "collapsed": true
   },
   "outputs": [],
   "source": [
    "#Find Distance\n",
    "#This function finds the distance between two sets of lat, long\n",
    "\n",
    "def find_distance(latitude1, longitude1, latitude2, longitude2):\n",
    "    # approximate radius of earth in mi\n",
    "    R = 3959.0\n",
    "\n",
    "    lat1 = radians(latitude1)\n",
    "    lon1 = radians(longitude1)\n",
    "    lat2 = radians(latitude2)\n",
    "    lon2 = radians(longitude2)\n",
    "\n",
    "    dlon = lon2 - lon1\n",
    "    dlat = lat2 - lat1\n",
    "\n",
    "    a = sin(dlat / 2)**2 + cos(lat1) * cos(lat2) * sin(dlon / 2)**2\n",
    "    c = 2 * atan2(sqrt(a), sqrt(1 - a))\n",
    "\n",
    "    distance = R * c\n",
    "    return distance\n"
   ]
  },
  {
   "cell_type": "code",
   "execution_count": 21,
   "metadata": {},
   "outputs": [
    {
     "data": {
      "text/plain": [
       "-3"
      ]
     },
     "execution_count": 21,
     "metadata": {},
     "output_type": "execute_result"
    }
   ],
   "source": [
    "#Get the time zone difference between two stadiums, returns a value between -3 and 3, where -3 means that the team traveled\n",
    "#3 hours westward, and 3 means that the team traveled 3 hours eastward. Takes inputs as 3 letter code for teams. Returns\n",
    "#-5 if either team is not found.\n",
    "\n",
    "def find_time_zone_difference(homeTeam, awayTeam):\n",
    "    #Convert the dataframe to an array to make it easier to loop through\n",
    "    distance_array = dfStadiumsInfo.values\n",
    "    \n",
    "    homeTeamTZ = 1000\n",
    "    awayTeamTZ = -1000\n",
    "    \n",
    "    #Find the time zones for the two teams\n",
    "    for i in range(0,30):\n",
    "        if(distance_array[i][1] == homeTeam):\n",
    "            homeTeamTZ = distance_array[i][4]\n",
    "        if(distance_array[i][1] == awayTeam):\n",
    "            awayTeamTZ = distance_array[i][4]\n",
    "    \n",
    "    if(homeTeamTZ - awayTeamTZ > 3 or homeTeamTZ - awayTeamTZ < -3):\n",
    "        return -5\n",
    "    else:\n",
    "        return homeTeamTZ - awayTeamTZ"
   ]
  },
  {
   "cell_type": "code",
   "execution_count": 7,
   "metadata": {
    "collapsed": true
   },
   "outputs": [],
   "source": [
    "#Gets the distance stored in the distance matrix, returns 0 if not yet updated\n",
    "\n",
    "def get_distance_matrix(matrix, team1ID, team2ID):\n",
    "    if(matrix[team1ID][team2ID] > 0):\n",
    "        return matrix[team1ID][team2ID]\n",
    "    elif (matrix[team2ID][team1ID] > 0):\n",
    "        return matrix[team2ID][team1ID]\n",
    "    else:\n",
    "        return 0"
   ]
  },
  {
   "cell_type": "code",
   "execution_count": 8,
   "metadata": {
    "collapsed": true
   },
   "outputs": [],
   "source": [
    "#Creates/resets the distance matrix to all 0, returns the matrix\n",
    "\n",
    "def start_distance_matrix():\n",
    "    return np.zeros((30, 30), dtype=float)"
   ]
  },
  {
   "cell_type": "code",
   "execution_count": 9,
   "metadata": {
    "collapsed": true
   },
   "outputs": [],
   "source": [
    "#Updates a position in the matrix to the specified distance, returns the input matrix\n",
    "\n",
    "def update_distance_matrix(matrix, team1ID, team2ID, distance):\n",
    "    matrix[team1ID][team2ID] = distance\n",
    "    matrix[team2ID][team1ID] = distance\n",
    "    return matrix"
   ]
  },
  {
   "cell_type": "code",
   "execution_count": 10,
   "metadata": {},
   "outputs": [
    {
     "name": "stderr",
     "output_type": "stream",
     "text": [
      "C:\\Anaconda\\lib\\site-packages\\ipykernel_launcher.py:6: DeprecationWarning: \n",
      ".ix is deprecated. Please use\n",
      ".loc for label based indexing or\n",
      ".iloc for positional indexing\n",
      "\n",
      "See the documentation here:\n",
      "http://pandas.pydata.org/pandas-docs/stable/indexing.html#ix-indexer-is-deprecated\n",
      "  \n"
     ]
    },
    {
     "ename": "TypeError",
     "evalue": "cannot convert the series to <class 'float'>",
     "output_type": "error",
     "traceback": [
      "\u001b[1;31m---------------------------------------------------------------------------\u001b[0m",
      "\u001b[1;31mTypeError\u001b[0m                                 Traceback (most recent call last)",
      "\u001b[1;32m<ipython-input-10-6986c52247ec>\u001b[0m in \u001b[0;36m<module>\u001b[1;34m()\u001b[0m\n\u001b[0;32m      6\u001b[0m         \u001b[0mtempAway\u001b[0m \u001b[1;33m=\u001b[0m \u001b[0mdfStadiumsInfo\u001b[0m\u001b[1;33m.\u001b[0m\u001b[0mix\u001b[0m\u001b[1;33m[\u001b[0m\u001b[1;33m(\u001b[0m\u001b[0mdfStadiumsInfo\u001b[0m\u001b[1;33m[\u001b[0m\u001b[1;34m'teamID'\u001b[0m\u001b[1;33m]\u001b[0m\u001b[1;33m==\u001b[0m\u001b[0mrow\u001b[0m\u001b[1;33m[\u001b[0m\u001b[1;34m'awayTeam'\u001b[0m\u001b[1;33m]\u001b[0m\u001b[1;33m)\u001b[0m\u001b[1;33m]\u001b[0m\u001b[1;33m\u001b[0m\u001b[0m\n\u001b[0;32m      7\u001b[0m         \u001b[0mtempHome\u001b[0m \u001b[1;33m=\u001b[0m \u001b[0mdfStadiumsInfo\u001b[0m\u001b[1;33m.\u001b[0m\u001b[0mix\u001b[0m\u001b[1;33m[\u001b[0m\u001b[1;33m(\u001b[0m\u001b[0mdfStadiumsInfo\u001b[0m\u001b[1;33m[\u001b[0m\u001b[1;34m'teamID'\u001b[0m\u001b[1;33m]\u001b[0m\u001b[1;33m==\u001b[0m\u001b[0mrow\u001b[0m\u001b[1;33m[\u001b[0m\u001b[1;34m'homeTeam'\u001b[0m\u001b[1;33m]\u001b[0m\u001b[1;33m)\u001b[0m\u001b[1;33m]\u001b[0m\u001b[1;33m\u001b[0m\u001b[0m\n\u001b[1;32m----> 8\u001b[1;33m         \u001b[0mdistance\u001b[0m \u001b[1;33m=\u001b[0m \u001b[0mfind_distance\u001b[0m\u001b[1;33m(\u001b[0m\u001b[0mfloat\u001b[0m\u001b[1;33m(\u001b[0m\u001b[0mtempAway\u001b[0m\u001b[1;33m[\u001b[0m\u001b[1;34m'lat'\u001b[0m\u001b[1;33m]\u001b[0m\u001b[1;33m)\u001b[0m\u001b[1;33m,\u001b[0m\u001b[0mfloat\u001b[0m\u001b[1;33m(\u001b[0m\u001b[0mtempAway\u001b[0m\u001b[1;33m[\u001b[0m\u001b[1;34m'long'\u001b[0m\u001b[1;33m]\u001b[0m\u001b[1;33m)\u001b[0m\u001b[1;33m,\u001b[0m\u001b[0mfloat\u001b[0m\u001b[1;33m(\u001b[0m\u001b[0mtempHome\u001b[0m\u001b[1;33m[\u001b[0m\u001b[1;34m'lat'\u001b[0m\u001b[1;33m]\u001b[0m\u001b[1;33m)\u001b[0m\u001b[1;33m,\u001b[0m\u001b[0mfloat\u001b[0m\u001b[1;33m(\u001b[0m\u001b[0mtempHome\u001b[0m\u001b[1;33m[\u001b[0m\u001b[1;34m'long'\u001b[0m\u001b[1;33m]\u001b[0m\u001b[1;33m)\u001b[0m\u001b[1;33m)\u001b[0m\u001b[1;33m\u001b[0m\u001b[0m\n\u001b[0m\u001b[0;32m      9\u001b[0m         \u001b[0mdist_matrix\u001b[0m \u001b[1;33m=\u001b[0m \u001b[0mupdate_distance_matrix\u001b[0m\u001b[1;33m(\u001b[0m\u001b[0mdist_matrix\u001b[0m\u001b[1;33m,\u001b[0m \u001b[0mteam_ID_lookup\u001b[0m\u001b[1;33m(\u001b[0m\u001b[0mrow\u001b[0m\u001b[1;33m[\u001b[0m\u001b[1;34m'awayTeam'\u001b[0m\u001b[1;33m]\u001b[0m\u001b[1;33m)\u001b[0m\u001b[1;33m,\u001b[0m \u001b[0mteam_ID_lookup\u001b[0m\u001b[1;33m(\u001b[0m\u001b[0mrow\u001b[0m\u001b[1;33m[\u001b[0m\u001b[1;34m'homeTeam'\u001b[0m\u001b[1;33m]\u001b[0m\u001b[1;33m)\u001b[0m\u001b[1;33m,\u001b[0m \u001b[0mdistance\u001b[0m\u001b[1;33m)\u001b[0m\u001b[1;33m\u001b[0m\u001b[0m\n",
      "\u001b[1;32mC:\\Anaconda\\lib\\site-packages\\pandas\\core\\series.py\u001b[0m in \u001b[0;36mwrapper\u001b[1;34m(self)\u001b[0m\n\u001b[0;32m     95\u001b[0m             \u001b[1;32mreturn\u001b[0m \u001b[0mconverter\u001b[0m\u001b[1;33m(\u001b[0m\u001b[0mself\u001b[0m\u001b[1;33m.\u001b[0m\u001b[0miloc\u001b[0m\u001b[1;33m[\u001b[0m\u001b[1;36m0\u001b[0m\u001b[1;33m]\u001b[0m\u001b[1;33m)\u001b[0m\u001b[1;33m\u001b[0m\u001b[0m\n\u001b[0;32m     96\u001b[0m         raise TypeError(\"cannot convert the series to \"\n\u001b[1;32m---> 97\u001b[1;33m                         \"{0}\".format(str(converter)))\n\u001b[0m\u001b[0;32m     98\u001b[0m \u001b[1;33m\u001b[0m\u001b[0m\n\u001b[0;32m     99\u001b[0m     \u001b[1;32mreturn\u001b[0m \u001b[0mwrapper\u001b[0m\u001b[1;33m\u001b[0m\u001b[0m\n",
      "\u001b[1;31mTypeError\u001b[0m: cannot convert the series to <class 'float'>"
     ]
    }
   ],
   "source": [
    "dist_matrix = start_distance_matrix()\n",
    "\n",
    "for index, row in dfGameInfo.iterrows():\n",
    "    distance = get_distance_matrix(dist_matrix, team_ID_lookup(row['awayTeam']), team_ID_lookup(row['homeTeam']))\n",
    "    if(distance == 0):\n",
    "        tempAway = dfStadiumsInfo.ix[(dfStadiumsInfo['teamID']==row['awayTeam'])]\n",
    "        tempHome = dfStadiumsInfo.ix[(dfStadiumsInfo['teamID']==row['homeTeam'])]\n",
    "        distance = find_distance(float(tempAway['lat']),float(tempAway['long']),float(tempHome['lat']),float(tempHome['long']))\n",
    "        dist_matrix = update_distance_matrix(dist_matrix, team_ID_lookup(row['awayTeam']), team_ID_lookup(row['homeTeam']), distance)"
   ]
  },
  {
   "cell_type": "code",
   "execution_count": null,
   "metadata": {
    "collapsed": true
   },
   "outputs": [],
   "source": []
  }
 ],
 "metadata": {
  "kernelspec": {
   "display_name": "Python 3",
   "language": "python",
   "name": "python3"
  },
  "language_info": {
   "codemirror_mode": {
    "name": "ipython",
    "version": 3
   },
   "file_extension": ".py",
   "mimetype": "text/x-python",
   "name": "python",
   "nbconvert_exporter": "python",
   "pygments_lexer": "ipython3",
   "version": "3.6.3"
  }
 },
 "nbformat": 4,
 "nbformat_minor": 2
}

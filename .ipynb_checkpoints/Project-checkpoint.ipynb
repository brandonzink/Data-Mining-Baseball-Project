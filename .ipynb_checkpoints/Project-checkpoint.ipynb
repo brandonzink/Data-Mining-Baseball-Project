{
 "cells": [
  {
   "cell_type": "markdown",
   "metadata": {},
   "source": [
    "# Effect of Travel on Baseball Performance\n",
    "***\n",
    "**Team Members:** Brandon Zink, Cameron Connor, Abiel Fattore\n",
    "\n",
    "In this project, we will look at the effect of travel in terms of distance in miles and number of time zones changed on the traveling teams performance."
   ]
  },
  {
   "cell_type": "code",
   "execution_count": 6,
   "metadata": {
    "collapsed": true
   },
   "outputs": [],
   "source": [
    "import numpy as np \n",
    "import pandas as pd\n",
    "import matplotlib.pylab as plt\n",
    "%matplotlib inline\n",
    "from math import sin, cos, sqrt, atan2, radians\n",
    "import math\n",
    "from scipy import stats"
   ]
  },
  {
   "cell_type": "code",
   "execution_count": 10,
   "metadata": {},
   "outputs": [
    {
     "ename": "FileNotFoundError",
     "evalue": "File b'data\\\\Stadium_Info.csv' does not exist",
     "output_type": "error",
     "traceback": [
      "\u001b[1;31m---------------------------------------------------------------------------\u001b[0m",
      "\u001b[1;31mFileNotFoundError\u001b[0m                         Traceback (most recent call last)",
      "\u001b[1;32m<ipython-input-10-74574cb40395>\u001b[0m in \u001b[0;36m<module>\u001b[1;34m()\u001b[0m\n\u001b[0;32m      1\u001b[0m \u001b[1;31m#Read in the data, store in appropriate data frames\u001b[0m\u001b[1;33m\u001b[0m\u001b[1;33m\u001b[0m\u001b[0m\n\u001b[0;32m      2\u001b[0m \u001b[1;33m\u001b[0m\u001b[0m\n\u001b[1;32m----> 3\u001b[1;33m \u001b[0mdfStadiumsInfo\u001b[0m \u001b[1;33m=\u001b[0m \u001b[0mpd\u001b[0m\u001b[1;33m.\u001b[0m\u001b[0mread_csv\u001b[0m\u001b[1;33m(\u001b[0m\u001b[1;34m'data\\Stadium_Info.csv'\u001b[0m\u001b[1;33m)\u001b[0m\u001b[1;33m\u001b[0m\u001b[0m\n\u001b[0m\u001b[0;32m      4\u001b[0m \u001b[1;33m\u001b[0m\u001b[0m\n\u001b[0;32m      5\u001b[0m \u001b[1;31m#Import and clean the game logs data\u001b[0m\u001b[1;33m\u001b[0m\u001b[1;33m\u001b[0m\u001b[0m\n",
      "\u001b[1;32mC:\\Anaconda\\lib\\site-packages\\pandas\\io\\parsers.py\u001b[0m in \u001b[0;36mparser_f\u001b[1;34m(filepath_or_buffer, sep, delimiter, header, names, index_col, usecols, squeeze, prefix, mangle_dupe_cols, dtype, engine, converters, true_values, false_values, skipinitialspace, skiprows, nrows, na_values, keep_default_na, na_filter, verbose, skip_blank_lines, parse_dates, infer_datetime_format, keep_date_col, date_parser, dayfirst, iterator, chunksize, compression, thousands, decimal, lineterminator, quotechar, quoting, escapechar, comment, encoding, dialect, tupleize_cols, error_bad_lines, warn_bad_lines, skipfooter, skip_footer, doublequote, delim_whitespace, as_recarray, compact_ints, use_unsigned, low_memory, buffer_lines, memory_map, float_precision)\u001b[0m\n\u001b[0;32m    653\u001b[0m                     skip_blank_lines=skip_blank_lines)\n\u001b[0;32m    654\u001b[0m \u001b[1;33m\u001b[0m\u001b[0m\n\u001b[1;32m--> 655\u001b[1;33m         \u001b[1;32mreturn\u001b[0m \u001b[0m_read\u001b[0m\u001b[1;33m(\u001b[0m\u001b[0mfilepath_or_buffer\u001b[0m\u001b[1;33m,\u001b[0m \u001b[0mkwds\u001b[0m\u001b[1;33m)\u001b[0m\u001b[1;33m\u001b[0m\u001b[0m\n\u001b[0m\u001b[0;32m    656\u001b[0m \u001b[1;33m\u001b[0m\u001b[0m\n\u001b[0;32m    657\u001b[0m     \u001b[0mparser_f\u001b[0m\u001b[1;33m.\u001b[0m\u001b[0m__name__\u001b[0m \u001b[1;33m=\u001b[0m \u001b[0mname\u001b[0m\u001b[1;33m\u001b[0m\u001b[0m\n",
      "\u001b[1;32mC:\\Anaconda\\lib\\site-packages\\pandas\\io\\parsers.py\u001b[0m in \u001b[0;36m_read\u001b[1;34m(filepath_or_buffer, kwds)\u001b[0m\n\u001b[0;32m    403\u001b[0m \u001b[1;33m\u001b[0m\u001b[0m\n\u001b[0;32m    404\u001b[0m     \u001b[1;31m# Create the parser.\u001b[0m\u001b[1;33m\u001b[0m\u001b[1;33m\u001b[0m\u001b[0m\n\u001b[1;32m--> 405\u001b[1;33m     \u001b[0mparser\u001b[0m \u001b[1;33m=\u001b[0m \u001b[0mTextFileReader\u001b[0m\u001b[1;33m(\u001b[0m\u001b[0mfilepath_or_buffer\u001b[0m\u001b[1;33m,\u001b[0m \u001b[1;33m**\u001b[0m\u001b[0mkwds\u001b[0m\u001b[1;33m)\u001b[0m\u001b[1;33m\u001b[0m\u001b[0m\n\u001b[0m\u001b[0;32m    406\u001b[0m \u001b[1;33m\u001b[0m\u001b[0m\n\u001b[0;32m    407\u001b[0m     \u001b[1;32mif\u001b[0m \u001b[0mchunksize\u001b[0m \u001b[1;32mor\u001b[0m \u001b[0miterator\u001b[0m\u001b[1;33m:\u001b[0m\u001b[1;33m\u001b[0m\u001b[0m\n",
      "\u001b[1;32mC:\\Anaconda\\lib\\site-packages\\pandas\\io\\parsers.py\u001b[0m in \u001b[0;36m__init__\u001b[1;34m(self, f, engine, **kwds)\u001b[0m\n\u001b[0;32m    762\u001b[0m             \u001b[0mself\u001b[0m\u001b[1;33m.\u001b[0m\u001b[0moptions\u001b[0m\u001b[1;33m[\u001b[0m\u001b[1;34m'has_index_names'\u001b[0m\u001b[1;33m]\u001b[0m \u001b[1;33m=\u001b[0m \u001b[0mkwds\u001b[0m\u001b[1;33m[\u001b[0m\u001b[1;34m'has_index_names'\u001b[0m\u001b[1;33m]\u001b[0m\u001b[1;33m\u001b[0m\u001b[0m\n\u001b[0;32m    763\u001b[0m \u001b[1;33m\u001b[0m\u001b[0m\n\u001b[1;32m--> 764\u001b[1;33m         \u001b[0mself\u001b[0m\u001b[1;33m.\u001b[0m\u001b[0m_make_engine\u001b[0m\u001b[1;33m(\u001b[0m\u001b[0mself\u001b[0m\u001b[1;33m.\u001b[0m\u001b[0mengine\u001b[0m\u001b[1;33m)\u001b[0m\u001b[1;33m\u001b[0m\u001b[0m\n\u001b[0m\u001b[0;32m    765\u001b[0m \u001b[1;33m\u001b[0m\u001b[0m\n\u001b[0;32m    766\u001b[0m     \u001b[1;32mdef\u001b[0m \u001b[0mclose\u001b[0m\u001b[1;33m(\u001b[0m\u001b[0mself\u001b[0m\u001b[1;33m)\u001b[0m\u001b[1;33m:\u001b[0m\u001b[1;33m\u001b[0m\u001b[0m\n",
      "\u001b[1;32mC:\\Anaconda\\lib\\site-packages\\pandas\\io\\parsers.py\u001b[0m in \u001b[0;36m_make_engine\u001b[1;34m(self, engine)\u001b[0m\n\u001b[0;32m    983\u001b[0m     \u001b[1;32mdef\u001b[0m \u001b[0m_make_engine\u001b[0m\u001b[1;33m(\u001b[0m\u001b[0mself\u001b[0m\u001b[1;33m,\u001b[0m \u001b[0mengine\u001b[0m\u001b[1;33m=\u001b[0m\u001b[1;34m'c'\u001b[0m\u001b[1;33m)\u001b[0m\u001b[1;33m:\u001b[0m\u001b[1;33m\u001b[0m\u001b[0m\n\u001b[0;32m    984\u001b[0m         \u001b[1;32mif\u001b[0m \u001b[0mengine\u001b[0m \u001b[1;33m==\u001b[0m \u001b[1;34m'c'\u001b[0m\u001b[1;33m:\u001b[0m\u001b[1;33m\u001b[0m\u001b[0m\n\u001b[1;32m--> 985\u001b[1;33m             \u001b[0mself\u001b[0m\u001b[1;33m.\u001b[0m\u001b[0m_engine\u001b[0m \u001b[1;33m=\u001b[0m \u001b[0mCParserWrapper\u001b[0m\u001b[1;33m(\u001b[0m\u001b[0mself\u001b[0m\u001b[1;33m.\u001b[0m\u001b[0mf\u001b[0m\u001b[1;33m,\u001b[0m \u001b[1;33m**\u001b[0m\u001b[0mself\u001b[0m\u001b[1;33m.\u001b[0m\u001b[0moptions\u001b[0m\u001b[1;33m)\u001b[0m\u001b[1;33m\u001b[0m\u001b[0m\n\u001b[0m\u001b[0;32m    986\u001b[0m         \u001b[1;32melse\u001b[0m\u001b[1;33m:\u001b[0m\u001b[1;33m\u001b[0m\u001b[0m\n\u001b[0;32m    987\u001b[0m             \u001b[1;32mif\u001b[0m \u001b[0mengine\u001b[0m \u001b[1;33m==\u001b[0m \u001b[1;34m'python'\u001b[0m\u001b[1;33m:\u001b[0m\u001b[1;33m\u001b[0m\u001b[0m\n",
      "\u001b[1;32mC:\\Anaconda\\lib\\site-packages\\pandas\\io\\parsers.py\u001b[0m in \u001b[0;36m__init__\u001b[1;34m(self, src, **kwds)\u001b[0m\n\u001b[0;32m   1603\u001b[0m         \u001b[0mkwds\u001b[0m\u001b[1;33m[\u001b[0m\u001b[1;34m'allow_leading_cols'\u001b[0m\u001b[1;33m]\u001b[0m \u001b[1;33m=\u001b[0m \u001b[0mself\u001b[0m\u001b[1;33m.\u001b[0m\u001b[0mindex_col\u001b[0m \u001b[1;32mis\u001b[0m \u001b[1;32mnot\u001b[0m \u001b[1;32mFalse\u001b[0m\u001b[1;33m\u001b[0m\u001b[0m\n\u001b[0;32m   1604\u001b[0m \u001b[1;33m\u001b[0m\u001b[0m\n\u001b[1;32m-> 1605\u001b[1;33m         \u001b[0mself\u001b[0m\u001b[1;33m.\u001b[0m\u001b[0m_reader\u001b[0m \u001b[1;33m=\u001b[0m \u001b[0mparsers\u001b[0m\u001b[1;33m.\u001b[0m\u001b[0mTextReader\u001b[0m\u001b[1;33m(\u001b[0m\u001b[0msrc\u001b[0m\u001b[1;33m,\u001b[0m \u001b[1;33m**\u001b[0m\u001b[0mkwds\u001b[0m\u001b[1;33m)\u001b[0m\u001b[1;33m\u001b[0m\u001b[0m\n\u001b[0m\u001b[0;32m   1606\u001b[0m \u001b[1;33m\u001b[0m\u001b[0m\n\u001b[0;32m   1607\u001b[0m         \u001b[1;31m# XXX\u001b[0m\u001b[1;33m\u001b[0m\u001b[1;33m\u001b[0m\u001b[0m\n",
      "\u001b[1;32mpandas/_libs/parsers.pyx\u001b[0m in \u001b[0;36mpandas._libs.parsers.TextReader.__cinit__ (pandas\\_libs\\parsers.c:4209)\u001b[1;34m()\u001b[0m\n",
      "\u001b[1;32mpandas/_libs/parsers.pyx\u001b[0m in \u001b[0;36mpandas._libs.parsers.TextReader._setup_parser_source (pandas\\_libs\\parsers.c:8873)\u001b[1;34m()\u001b[0m\n",
      "\u001b[1;31mFileNotFoundError\u001b[0m: File b'data\\\\Stadium_Info.csv' does not exist"
     ]
    }
   ],
   "source": [
    "#Read in the data, store in appropriate data frames\n",
    "\n",
    "dfStadiumsInfo = pd.read_csv('data/Stadium_Info.csv')\n",
    "\n",
    "#Import and clean the game logs data\n",
    "dfGameInfo = pd.read_csv('data/Game_Logs.csv', low_memory=False, header=None)\n",
    "#Name all of the columns\n",
    "dfGameInfo.columns = (['date','gameNumber','day','awayTeam','awayTeamLg','awayTeamGmNmbr','homeTeam','homeTeamLg','homeTeamGmNmbr','awayScore','homeScore','lengthInOuts','timeOfDay','completion','forfeit','protest','parkID','attendance','lengthOfGameInMinutes','awayLineScore','homeLineScore','awayAB','awayH','away2B','away3B','awayHR','awayRBI','awaySH','awaySF','awayHBP','awayBB','awayIBB','awaySO','awaySB','awayCS','awayGIDP','awayCatchInf','awayLOB','awayPitchersUsed','awayIndivER','awayER','awayWildPitch','awayBalk','awayPO','awayAssists','awayE','awayPassedBalls','awayDoubPlay','awayTripPlay','homeAB','homeH','home2B','home3B','homeHR','homeRBI','homeSH','homeSF','homeHBP','homeBB','homeIBB','homeSO','homeSB','homeCS','homeGIDP','homeCatchInf','homeLOB','homePitchersUsed','homeIndivER','homeER','homeWildPitch','homeBalk','homePO','homeAssists','homeE','homePassedBalls','homeDoubPlay','homeTripPlay','homePlateUmpID','homePlateUmpName','1BUmpID','1BUmpName','2BUmpID','2BUmpName','3BUmpID','3BUmpName','LFUmpID','LFUmpName','RFUmpID','RFUmpName','awayManagerID','awayManagerName','homeManagerID','homeManagerName','winPitcherID','winPitcherName','losePitcherID','losePitcherName','savePitcherID','savePitcherName','GWRBIHitterID','GWRBIHitterName','awaySPID','awaySPName','homeSPID','homeSPName','away1ID','away1Name','away1POS','away2ID','away2Name','away2POS','away3ID','away3Name','away3POS','away4ID','away4Name','away4POS','away5ID','away5Name','away5POS','away6ID','away6Name','away6POS','away7ID','away7Name','away7POS','away8ID','away8Name','away8POS','away9ID','away9Name','away9POS','home1ID','home1Name','home1POS','home2ID','home2Name','home2POS','home3ID','home3Name','home3POS','home4ID','home4Name','home4POS','home5ID','home5Name','home5POS','home6ID','home6Name','home6POS','home7ID','home7Name','home7POS','home8ID','home8Name','home8POS','home9ID','home9Name','home9POS','addInfo','infoAquisition'])\n",
    "#Remove the last two digits of parkID since they are useless\n",
    "dfGameInfo['parkID'] = dfGameInfo['parkID'].astype(str).str[:-2].astype(str)\n",
    "#Get rid of games in Tokyo, Montreal, Puerto Rico, Disney World, Sydney, Fort Bragg\n",
    "dfGameInfo = dfGameInfo[dfGameInfo['parkID'] != 'TOK']\n",
    "dfGameInfo = dfGameInfo[dfGameInfo['parkID'] != 'MON']\n",
    "dfGameInfo = dfGameInfo[dfGameInfo['parkID'] != 'SJU']\n",
    "dfGameInfo = dfGameInfo[dfGameInfo['parkID'] != 'LBV']\n",
    "dfGameInfo = dfGameInfo[dfGameInfo['parkID'] != 'SYD']\n",
    "dfGameInfo = dfGameInfo[dfGameInfo['parkID'] != 'FTB']\n",
    "\n",
    "dfGameInfo.head()"
   ]
  },
  {
   "cell_type": "code",
   "execution_count": null,
   "metadata": {
    "collapsed": true
   },
   "outputs": [],
   "source": [
    "#Team ID Lookup\n",
    "#This is used across multiple functions to give each team a specific number that can be used in lookups (returns 0 through 29, else -1)\n",
    "\n",
    "def team_ID_lookup(teamID):\n",
    "    teamMatrix = ['ANA','ARI','ATL','BAL','BOS','CHN','CHA','CIN','CLE','COL','DET','FLO','HOU','KCA','LAN','MIL','MIN','WAS','NYN','NYA','OAK','PHI','PIT','SLN','SDN','SFN','SEA','TBA','TEX','TOR']\n",
    "    for i in range (0,30):\n",
    "        if(teamMatrix[i] == teamID):\n",
    "            return i\n",
    "    return -1"
   ]
  },
  {
   "cell_type": "code",
   "execution_count": null,
   "metadata": {
    "collapsed": true
   },
   "outputs": [],
   "source": [
    "#Find Distance\n",
    "#This function finds the distance between two sets of lat, long\n",
    "\n",
    "def find_distance(latitude1, longitude1, latitude2, longitude2):\n",
    "    # approximate radius of earth in mi\n",
    "    R = 3959.0\n",
    "\n",
    "    lat1 = radians(latitude1)\n",
    "    lon1 = radians(longitude1)\n",
    "    lat2 = radians(latitude2)\n",
    "    lon2 = radians(longitude2)\n",
    "\n",
    "    dlon = lon2 - lon1\n",
    "    dlat = lat2 - lat1\n",
    "\n",
    "    a = sin(dlat / 2)**2 + cos(lat1) * cos(lat2) * sin(dlon / 2)**2\n",
    "    c = 2 * atan2(sqrt(a), sqrt(1 - a))\n",
    "\n",
    "    distance = R * c\n",
    "    return distance\n"
   ]
  },
  {
   "cell_type": "code",
   "execution_count": null,
   "metadata": {
    "collapsed": true
   },
   "outputs": [],
   "source": [
    "#Get the time zone difference between two stadiums, returns a value between -3 and 3, where -3 means that the team traveled\n",
    "#3 hours westward, and 3 means that the team traveled 3 hours eastward. Takes inputs as 3 letter code for teams. Returns\n",
    "#-5 if either team is not found.\n",
    "\n",
    "def find_time_zone_difference(awayTeam, homeTeam):\n",
    "    #Convert the dataframe to an array to make it easier to loop through\n",
    "    distance_array = dfStadiumsInfo.values\n",
    "    \n",
    "    homeTeamTZ = 1000\n",
    "    awayTeamTZ = -1000\n",
    "    \n",
    "    #Find the time zones for the two teams\n",
    "    for i in range(0,30):\n",
    "        if(distance_array[i][1] == homeTeam):\n",
    "            homeTeamTZ = distance_array[i][4]\n",
    "        if(distance_array[i][1] == awayTeam):\n",
    "            awayTeamTZ = distance_array[i][4]\n",
    "    \n",
    "    if(homeTeamTZ - awayTeamTZ > 3 or homeTeamTZ - awayTeamTZ < -3):\n",
    "        return -5\n",
    "    else:\n",
    "        return homeTeamTZ - awayTeamTZ"
   ]
  },
  {
   "cell_type": "code",
   "execution_count": null,
   "metadata": {
    "collapsed": true
   },
   "outputs": [],
   "source": [
    "#Gets the distance stored in the distance matrix, returns 0 if not yet updated\n",
    "\n",
    "def get_distance_matrix(matrix, team1ID, team2ID):\n",
    "    if(matrix[team1ID][team2ID] > 0):\n",
    "        return matrix[team1ID][team2ID]\n",
    "    elif (matrix[team2ID][team1ID] > 0):\n",
    "        return matrix[team2ID][team1ID]\n",
    "    else:\n",
    "        return 0"
   ]
  },
  {
   "cell_type": "code",
   "execution_count": null,
   "metadata": {
    "collapsed": true
   },
   "outputs": [],
   "source": [
    "#Creates/resets the distance matrix to all 0, returns the matrix\n",
    "\n",
    "def start_distance_matrix():\n",
    "    return np.zeros((30, 30), dtype=float)\n",
    "\n",
    "#initialize the distance matrix\n",
    "dist_matrix = start_distance_matrix()"
   ]
  },
  {
   "cell_type": "code",
   "execution_count": null,
   "metadata": {
    "collapsed": true
   },
   "outputs": [],
   "source": [
    "#Updates a position in the matrix to the specified distance, returns the input matrix\n",
    "\n",
    "def update_distance_matrix(matrix, team1ID, team2ID, distance):\n",
    "    matrix[team1ID][team2ID] = distance\n",
    "    matrix[team2ID][team1ID] = distance\n",
    "    return matrix"
   ]
  },
  {
   "cell_type": "code",
   "execution_count": null,
   "metadata": {
    "collapsed": true
   },
   "outputs": [],
   "source": [
    "#This gets the distance between two stadiums from the stored matrix, and if it's not there, it calculates it and stores it\n",
    "#in there (dist_matrix)\n",
    "\n",
    "def get_distance(awayTeam, homeTeam):\n",
    "    global dist_matrix\n",
    "    \n",
    "    stadium_info_array = dfStadiumsInfo.values\n",
    "    distance = 0\n",
    "    #get the distance between the stadiums from the distance matrix if it has already been updated\n",
    "    distance = get_distance_matrix(dist_matrix, team_ID_lookup(awayTeam), team_ID_lookup(homeTeam))\n",
    "    \n",
    "    #if it has not been updated yet, update it\n",
    "    if(distance == 0):\n",
    "        #loop through the stadium matrix to find the correct row, get the lat and long from that row, calculate the distance,\n",
    "        #and then update the matrix to include that distance\n",
    "        awayLat = awayLong = homeLat = homeLong = -1.0\n",
    "        for i in range(0,30):\n",
    "            \n",
    "            if(stadium_info_array[i][1] == awayTeam):\n",
    "                awayLat = stadium_info_array[i][2]\n",
    "                awayLong = stadium_info_array[i][3]\n",
    "                \n",
    "            if(stadium_info_array[i][1] == homeTeam):\n",
    "                homeLat = stadium_info_array[i][2]\n",
    "                homeLong = stadium_info_array[i][3]\n",
    "            \n",
    "        distance = find_distance(awayLat, awayLong, homeLat, homeLong)\n",
    "                \n",
    "        dist_matrix = update_distance_matrix(dist_matrix, team_ID_lookup(awayTeam), team_ID_lookup(homeTeam), distance)\n",
    "        \n",
    "    return distance"
   ]
  },
  {
   "cell_type": "code",
   "execution_count": null,
   "metadata": {
    "collapsed": true
   },
   "outputs": [],
   "source": [
    "def OBP_calc(H, BB, HBP, AB, SF):\n",
    "    return ((H+BB+HBP)/(BB+HBP+AB+SF))\n",
    "\n",
    "def SLG_calc(H, twoB, threeB, HR, AB):\n",
    "    return (((H-(twoB+threeB+HR))+(twoB*2)+(threeB*3)+(HR*4))/AB)\n",
    "    \n",
    "def ISO_calc(SLG, BA):\n",
    "    return SLG-BA\n",
    "    \n",
    "def FIP_calc(HR, HBP, BB, K, IP):\n",
    "    return ((((HR*13)+(3*(HBP+BB))-(2*K))/IP)+3.2)"
   ]
  },
  {
   "cell_type": "code",
   "execution_count": null,
   "metadata": {
    "collapsed": true
   },
   "outputs": [],
   "source": [
    "#This just checks the distance matrix to make sure it is updating correctly\n",
    "\n",
    "def check_distance_matrix():\n",
    "    for i in range(0,30):\n",
    "        print(dist_matrix[i])"
   ]
  },
  {
   "cell_type": "code",
   "execution_count": null,
   "metadata": {
    "collapsed": true
   },
   "outputs": [],
   "source": [
    "#This gets us the data that we need for the analysis\n",
    "dfGameData = dfGameInfo[['awayTeam','homeTeam','awayScore','homeScore','lengthInOuts','attendance','awayAB','awayH',\n",
    "                                  'away2B','away3B','awayHR','awayRBI','awaySH','awaySF','awayHBP','awayBB','awaySO',\n",
    "                                 'awayER','homeAB','homeH','home2B','home3B','homeHR','homeRBI','homeSH','homeSF','homeHBP',\n",
    "                                  'homeBB','homeSO','homeER']].copy()\n",
    "\n",
    "\n",
    "#Here we add the columns that we need including distance, time zones, OBP, SLG, etc.\n",
    "dfGameData['distance'] = -1\n",
    "dfGameData['timeZoneChange'] = -1\n",
    "dfGameData['away Batting R/9'] = -1.0\n",
    "dfGameData['away Batting H/9'] = -1.0\n",
    "dfGameData['away Batting BB/9'] = -1.0\n",
    "dfGameData['away Batting K/9'] = -1.0\n",
    "dfGameData['awayBA'] = -1.0\n",
    "dfGameData['awayOBP'] = -1.0\n",
    "dfGameData['awaySLG'] = -1.0\n",
    "dfGameData['awayISO'] = -1.0\n",
    "dfGameData['away Pitching H/9'] = -1.0\n",
    "dfGameData['away Pitching BB/9'] = -1.0\n",
    "dfGameData['away Pitching K/9'] = -1.0\n",
    "dfGameData['awayERA'] = -1.0\n",
    "dfGameData['awayFIP'] = -1.0\n",
    "\n",
    "\n",
    "#Loop through an calculate the values \n",
    "#WARNING: Not pretty\n",
    "for i, row in dfGameInfo.iterrows():\n",
    "    \n",
    "    #The number of innings the away team hit and pitched\n",
    "    away_innings_hit = math.ceil(row['lengthInOuts']/6.0)\n",
    "    away_innings_pitch = math.floor(row['lengthInOuts']/6.0)\n",
    "    \n",
    "    #distance\n",
    "    distance_val = get_distance(str(row['awayTeam']), str(row['homeTeam']))\n",
    "    dfGameData.set_value(i, 'distance', distance_val)\n",
    "    \n",
    "    #time zone change\n",
    "    t_z = find_time_zone_difference(str(row['awayTeam']), str(row['homeTeam']))\n",
    "    dfGameData.set_value(i, 'timeZoneChange', t_z)\n",
    "    \n",
    "    #away batting R/9\n",
    "    bat_run_per_nine = row['awayScore']*(9.0/away_innings_hit)\n",
    "    dfGameData.set_value(i, 'away Batting R/9', bat_run_per_nine)\n",
    "    \n",
    "    #away batting H/9\n",
    "    bat_hit_per_nine = row['awayH']*(9.0/away_innings_hit)\n",
    "    dfGameData.set_value(i, 'away Batting H/9', bat_hit_per_nine)\n",
    "    \n",
    "    #away batting BB/9\n",
    "    bat_walk_per_nine = row['awayBB']*(9.0/away_innings_hit)\n",
    "    dfGameData.set_value(i, 'away Batting BB/9', bat_walk_per_nine)\n",
    "    \n",
    "    #away batting K/9\n",
    "    bat_k_per_nine = row['awaySO']*(9.0/away_innings_hit)\n",
    "    dfGameData.set_value(i, 'away Batting K/9', bat_k_per_nine)\n",
    "    \n",
    "    #away BA\n",
    "    BA = row['awayH']/row['awayAB']\n",
    "    dfGameData.set_value(i, 'awayBA', BA)\n",
    "    \n",
    "    #away OBP\n",
    "    OBP = OBP_calc(row['awayH'], row['awayBB'], row['awayHBP'], row['awayAB'], row['awaySF'])\n",
    "    dfGameData.set_value(i, 'awayOBP', OBP)\n",
    "    \n",
    "    #away SLG\n",
    "    SLG = SLG_calc(row['awayH'], row['away2B'], row['away3B'], row['awayHR'], row['awayAB'])\n",
    "    dfGameData.set_value(i, 'awaySLG', SLG)\n",
    "    \n",
    "    #away ISO\n",
    "    ISO = ISO_calc(SLG_calc(row['awayH'], row['away2B'], row['away3B'], row['awayHR'], row['awayAB']), row['awayH']/row['awayAB'])\n",
    "    dfGameData.set_value(i, 'awayISO', ISO)\n",
    "    \n",
    "    #away pitching H/9\n",
    "    pit_hit_per_nine = row['homeH']*(9.0/away_innings_pitch)\n",
    "    dfGameData.set_value(i, 'away Pitching H/9', pit_hit_per_nine)\n",
    "    \n",
    "    #away pitching BB/9\n",
    "    pit_walk_per_nine = row['homeBB']*(9.0/away_innings_pitch)\n",
    "    dfGameData.set_value(i, 'away Pitching BB/9', pit_walk_per_nine)\n",
    "    \n",
    "    #away pitching K/9\n",
    "    pit_k_per_nine = row['homeSO']*(9.0/away_innings_pitch)\n",
    "    dfGameData.set_value(i, 'away Pitching K/9', pit_k_per_nine)\n",
    "    \n",
    "    #away ERA\n",
    "    ERA = row['homeER']*(9.0/away_innings_pitch)\n",
    "    dfGameData.set_value(i, 'awayERA', ERA)\n",
    "    \n",
    "    #away FIP\n",
    "    FIP = FIP_calc(row['homeHR'], row['homeHBP'], row['homeBB'], row['homeSO'], away_innings_pitch)\n",
    "    dfGameData.set_value(i, 'awayFIP', FIP)"
   ]
  },
  {
   "cell_type": "code",
   "execution_count": null,
   "metadata": {
    "collapsed": true
   },
   "outputs": [],
   "source": [
    "#Create a dataframe for each distance section and time zone change\n",
    "dfGameData = dfGameData.dropna()\n",
    "dfGameData0_500 = dfGameData.loc[(dfGameData['distance'] < 500) & (dfGameData['distance'] >= 1)]\n",
    "dfGameData500_1000 = dfGameData.loc[(dfGameData['distance'] < 1000) & (dfGameData['distance'] >= 500)]\n",
    "dfGameData1000_2000 = dfGameData.loc[(dfGameData['distance'] < 2000) & (dfGameData['distance'] >= 1000)]\n",
    "dfGameData2000 = dfGameData.loc[(dfGameData['distance'] < 10000) & (dfGameData['distance'] >= 2000)]\n",
    "dfGameData3hourswest = dfGameData.loc[dfGameData['timeZoneChange'] == -3]\n",
    "dfGameData2hourswest = dfGameData.loc[dfGameData['timeZoneChange'] == -2]\n",
    "dfGameData1hourswest = dfGameData.loc[dfGameData['timeZoneChange'] == -1]\n",
    "dfGameData0hours = dfGameData.loc[dfGameData['timeZoneChange'] == 0]\n",
    "dfGameData1hourseast = dfGameData.loc[dfGameData['timeZoneChange'] == 1]\n",
    "dfGameData2hourseast = dfGameData.loc[dfGameData['timeZoneChange'] == 2]\n",
    "dfGameData3hourseast = dfGameData.loc[dfGameData['timeZoneChange'] == 3]"
   ]
  },
  {
   "cell_type": "code",
   "execution_count": null,
   "metadata": {
    "collapsed": true
   },
   "outputs": [],
   "source": [
    "dfGameData3hourseast.mean()"
   ]
  },
  {
   "cell_type": "code",
   "execution_count": null,
   "metadata": {
    "collapsed": true
   },
   "outputs": [],
   "source": [
    "print (\"p values at < 500 miles traveled\")\n",
    "print (\"--------------------------------\")\n",
    "print (\"< 500 miles distance count: \\t\\t\\t\\t\",len(dfGameData0_500.index))\n",
    "print (\"< 500 miles distance away bat. R/9 p value: \\t\\t\",(stats.ttest_ind(dfGameData0_500['away Batting R/9'], dfGameData['away Batting R/9'])[1]))\n",
    "print (\"< 500 miles distance away bat. H/9 p value: \\t\\t\",(stats.ttest_ind(dfGameData0_500['away Batting H/9'], dfGameData['away Batting H/9'])[1]))\n",
    "print (\"< 500 miles distance away bat. BB/9 p value: \\t\\t\",(stats.ttest_ind(dfGameData0_500['away Batting BB/9'], dfGameData['away Batting BB/9'])[1]))\n",
    "print (\"< 500 miles distance away bat.  K/9 p value: \\t\\t\",(stats.ttest_ind(dfGameData0_500['away Batting K/9'], dfGameData['away Batting K/9'])[1]))\n",
    "print (\"< 500 miles distance away bat. BA p value: \\t\\t\",(stats.ttest_ind(dfGameData0_500['awayBA'], dfGameData['awayBA'])[1]))\n",
    "print (\"< 500 miles distance away bat. OBP p value: \\t\\t\",(stats.ttest_ind(dfGameData0_500['awayOBP'], dfGameData['awayOBP'])[1]))\n",
    "print (\"< 500 miles distance away bat. SLG p value: \\t\\t\",(stats.ttest_ind(dfGameData0_500['awaySLG'], dfGameData['awaySLG'])[1]))\n",
    "print (\"< 500 miles distance away bat. ISO p value: \\t\\t\",(stats.ttest_ind(dfGameData0_500['awayISO'], dfGameData['awayISO'])[1]))\n",
    "print (\"< 500 miles distance away pit. H/9 p value: \\t\\t\",(stats.ttest_ind(dfGameData0_500['away Pitching H/9'], dfGameData['away Pitching H/9'])[1]))\n",
    "print (\"< 500 miles distance away pit. BB/9 p value: \\t\\t\",(stats.ttest_ind(dfGameData0_500['away Pitching BB/9'], dfGameData['away Pitching BB/9'])[1]))\n",
    "print (\"< 500 miles distance away pit. K/9 p value: \\t\\t\",(stats.ttest_ind(dfGameData0_500['away Pitching K/9'], dfGameData['away Pitching K/9'])[1]))\n",
    "print (\"< 500 miles distance away pit. ERA p value: \\t\\t\",(stats.ttest_ind(dfGameData0_500['awayERA'], dfGameData['awayERA'])[1]))\n",
    "print (\"< 500 miles distance away pit. FIP p value: \\t\\t\",(stats.ttest_ind(dfGameData0_500['awayFIP'], dfGameData['awayFIP'])[1]))"
   ]
  },
  {
   "cell_type": "code",
   "execution_count": null,
   "metadata": {
    "collapsed": true
   },
   "outputs": [],
   "source": [
    "print (\"p values at 500 - 1000 miles traveled\")\n",
    "print (\"-------------------------------------\")\n",
    "print (\"500 - 1000 miles distance count: \\t\\t\\t\\t\",len(dfGameData500_1000.index))\n",
    "print (\"500 - 1000 miles distance away bat. R/9 p value: \\t\\t\",(stats.ttest_ind(dfGameData500_1000['away Batting R/9'], dfGameData['away Batting R/9'])[1]))\n",
    "print (\"500 - 1000 miles distance away bat. H/9 p value: \\t\\t\",(stats.ttest_ind(dfGameData500_1000['away Batting H/9'], dfGameData['away Batting H/9'])[1]))\n",
    "print (\"500 - 1000 miles distance away bat. BB/9 p value: \\t\\t\",(stats.ttest_ind(dfGameData500_1000['away Batting BB/9'], dfGameData['away Batting BB/9'])[1]))\n",
    "print (\"500 - 1000 miles distance away bat.  K/9 p value: \\t\\t\",(stats.ttest_ind(dfGameData500_1000['away Batting K/9'], dfGameData['away Batting K/9'])[1]))\n",
    "print (\"500 - 1000 miles distance away bat. BA p value: \\t\\t\",(stats.ttest_ind(dfGameData500_1000['awayBA'], dfGameData['awayBA'])[1]))\n",
    "print (\"500 - 1000 miles distance away bat. OBP p value: \\t\\t\",(stats.ttest_ind(dfGameData500_1000['awayOBP'], dfGameData['awayOBP'])[1]))\n",
    "print (\"500 - 1000 miles distance away bat. SLG p value: \\t\\t\",(stats.ttest_ind(dfGameData500_1000['awaySLG'], dfGameData['awaySLG'])[1]))\n",
    "print (\"500 - 1000 miles distance away bat. ISO p value: \\t\\t\",(stats.ttest_ind(dfGameData500_1000['awayISO'], dfGameData['awayISO'])[1]))\n",
    "print (\"500 - 1000 miles distance away pit. H/9 p value: \\t\\t\",(stats.ttest_ind(dfGameData500_1000['away Pitching H/9'], dfGameData['away Pitching H/9'])[1]))\n",
    "print (\"500 - 1000 miles distance away pit. BB/9 p value: \\t\\t\",(stats.ttest_ind(dfGameData500_1000['away Pitching BB/9'], dfGameData['away Pitching BB/9'])[1]))\n",
    "print (\"500 - 1000 miles distance away pit. K/9 p value: \\t\\t\",(stats.ttest_ind(dfGameData500_1000['away Pitching K/9'], dfGameData['away Pitching K/9'])[1]))\n",
    "print (\"500 - 1000 miles distance away pit. ERA p value: \\t\\t\",(stats.ttest_ind(dfGameData500_1000['awayERA'], dfGameData['awayERA'])[1]))\n",
    "print (\"500 - 1000 miles distance away pit. FIP p value: \\t\\t\",(stats.ttest_ind(dfGameData500_1000['awayFIP'], dfGameData['awayFIP'])[1]))"
   ]
  },
  {
   "cell_type": "code",
   "execution_count": null,
   "metadata": {
    "collapsed": true
   },
   "outputs": [],
   "source": [
    "print (\"p values at 1000 - 2000 miles traveled\")\n",
    "print (\"--------------------------------------\")\n",
    "print (\"1000 - 2000 miles distance count: \\t\\t\\t\\t\",len(dfGameData1000_2000.index))\n",
    "print (\"1000 - 2000 miles distance away bat. R/9 p value: \\t\\t\",(stats.ttest_ind(dfGameData1000_2000['away Batting R/9'], dfGameData['away Batting R/9'])[1]))\n",
    "print (\"1000 - 2000 miles distance away bat. H/9 p value: \\t\\t\",(stats.ttest_ind(dfGameData1000_2000['away Batting H/9'], dfGameData['away Batting H/9'])[1]))\n",
    "print (\"1000 - 2000 miles distance away bat. BB/9 p value: \\t\\t\",(stats.ttest_ind(dfGameData1000_2000['away Batting BB/9'], dfGameData['away Batting BB/9'])[1]))\n",
    "print (\"1000 - 2000 miles distance away bat.  K/9 p value: \\t\\t\",(stats.ttest_ind(dfGameData1000_2000['away Batting K/9'], dfGameData['away Batting K/9'])[1]))\n",
    "print (\"1000 - 2000 miles distance away bat. BA p value: \\t\\t\",(stats.ttest_ind(dfGameData1000_2000['awayBA'], dfGameData['awayBA'])[1]))\n",
    "print (\"1000 - 2000 miles distance away bat. OBP p value: \\t\\t\",(stats.ttest_ind(dfGameData1000_2000['awayOBP'], dfGameData['awayOBP'])[1]))\n",
    "print (\"1000 - 2000 miles distance away bat. SLG p value: \\t\\t\",(stats.ttest_ind(dfGameData1000_2000['awaySLG'], dfGameData['awaySLG'])[1]))\n",
    "print (\"1000 - 2000 miles distance away bat. ISO p value: \\t\\t\",(stats.ttest_ind(dfGameData1000_2000['awayISO'], dfGameData['awayISO'])[1]))\n",
    "print (\"1000 - 2000 miles distance away pit. H/9 p value: \\t\\t\",(stats.ttest_ind(dfGameData1000_2000['away Pitching H/9'], dfGameData['away Pitching H/9'])[1]))\n",
    "print (\"1000 - 2000 miles distance away pit. BB/9 p value: \\t\\t\",(stats.ttest_ind(dfGameData1000_2000['away Pitching BB/9'], dfGameData['away Pitching BB/9'])[1]))\n",
    "print (\"1000 - 2000 miles distance away pit. K/9 p value: \\t\\t\",(stats.ttest_ind(dfGameData1000_2000['away Pitching K/9'], dfGameData['away Pitching K/9'])[1]))\n",
    "print (\"1000 - 2000 miles distance away pit. ERA p value: \\t\\t\",(stats.ttest_ind(dfGameData1000_2000['awayERA'], dfGameData['awayERA'])[1]))\n",
    "print (\"1000 - 2000 miles distance away pit. FIP p value: \\t\\t\",(stats.ttest_ind(dfGameData1000_2000['awayFIP'], dfGameData['awayFIP'])[1]))"
   ]
  },
  {
   "cell_type": "code",
   "execution_count": null,
   "metadata": {
    "collapsed": true
   },
   "outputs": [],
   "source": [
    "print (\"p values at > 2000 miles traveled\")\n",
    "print (\"---------------------------------\")\n",
    "print (\"> 2000 miles distance count: \\t\\t\\t\\t\",len(dfGameData2000.index))\n",
    "print (\"> 2000 miles distance away bat. R/9 p value: \\t\\t\",(stats.ttest_ind(dfGameData2000['away Batting R/9'], dfGameData['away Batting R/9'])[1]))\n",
    "print (\"> 2000 miles distance away bat. H/9 p value: \\t\\t\",(stats.ttest_ind(dfGameData2000['away Batting H/9'], dfGameData['away Batting H/9'])[1]))\n",
    "print (\"> 2000 miles distance away bat. BB/9 p value: \\t\\t\",(stats.ttest_ind(dfGameData2000['away Batting BB/9'], dfGameData['away Batting BB/9'])[1]))\n",
    "print (\"> 2000 miles distance away bat.  K/9 p value: \\t\\t\",(stats.ttest_ind(dfGameData2000['away Batting K/9'], dfGameData['away Batting K/9'])[1]))\n",
    "print (\"> 2000 miles distance away bat. BA p value: \\t\\t\",(stats.ttest_ind(dfGameData2000['awayBA'], dfGameData['awayBA'])[1]))\n",
    "print (\"> 2000 miles distance away bat. OBP p value: \\t\\t\",(stats.ttest_ind(dfGameData2000['awayOBP'], dfGameData['awayOBP'])[1]))\n",
    "print (\"> 2000 miles distance away bat. SLG p value: \\t\\t\",(stats.ttest_ind(dfGameData2000['awaySLG'], dfGameData['awaySLG'])[1]))\n",
    "print (\"> 2000 miles distance away bat. ISO p value: \\t\\t\",(stats.ttest_ind(dfGameData2000['awayISO'], dfGameData['awayISO'])[1]))\n",
    "print (\"> 2000 miles distance away pit. H/9 p value: \\t\\t\",(stats.ttest_ind(dfGameData2000['away Pitching H/9'], dfGameData['away Pitching H/9'])[1]))\n",
    "print (\"> 2000 miles distance away pit. BB/9 p value: \\t\\t\",(stats.ttest_ind(dfGameData2000['away Pitching BB/9'], dfGameData['away Pitching BB/9'])[1]))\n",
    "print (\"> 2000 miles distance away pit. K/9 p value: \\t\\t\",(stats.ttest_ind(dfGameData2000['away Pitching K/9'], dfGameData['away Pitching K/9'])[1]))\n",
    "print (\"> 2000 miles distance away pit. ERA p value: \\t\\t\",(stats.ttest_ind(dfGameData2000['awayERA'], dfGameData['awayERA'])[1]))\n",
    "print (\"> 2000 miles distance away pit. FIP p value: \\t\\t\",(stats.ttest_ind(dfGameData2000['awayFIP'], dfGameData['awayFIP'])[1]))"
   ]
  },
  {
   "cell_type": "code",
   "execution_count": null,
   "metadata": {
    "collapsed": true
   },
   "outputs": [],
   "source": [
    "print (\"p values at 3 time zones traveled west\")\n",
    "print (\"--------------------------------------\")\n",
    "print (\"3 hours west traveled count: \\t\\t\\t\\t\",len(dfGameData3hourswest.index))\n",
    "print (\"3 hours west traveled away bat. R/9 p value: \\t\\t\",(stats.ttest_ind(dfGameData3hourswest['away Batting R/9'], dfGameData['away Batting R/9'])[1]))\n",
    "print (\"3 hours west traveled away bat. H/9 p value: \\t\\t\",(stats.ttest_ind(dfGameData3hourswest['away Batting H/9'], dfGameData['away Batting H/9'])[1]))\n",
    "print (\"3 hours west traveled away bat. BB/9 p value: \\t\\t\",(stats.ttest_ind(dfGameData3hourswest['away Batting BB/9'], dfGameData['away Batting BB/9'])[1]))\n",
    "print (\"3 hours west traveled away bat.  K/9 p value: \\t\\t\",(stats.ttest_ind(dfGameData3hourswest['away Batting K/9'], dfGameData['away Batting K/9'])[1]))\n",
    "print (\"3 hours west traveled away bat. BA p value: \\t\\t\",(stats.ttest_ind(dfGameData3hourswest['awayBA'], dfGameData['awayBA'])[1]))\n",
    "print (\"3 hours west traveled away bat. OBP p value: \\t\\t\",(stats.ttest_ind(dfGameData3hourswest['awayOBP'], dfGameData['awayOBP'])[1]))\n",
    "print (\"3 hours west traveled away bat. SLG p value: \\t\\t\",(stats.ttest_ind(dfGameData3hourswest['awaySLG'], dfGameData['awaySLG'])[1]))\n",
    "print (\"3 hours west traveled away bat. ISO p value: \\t\\t\",(stats.ttest_ind(dfGameData3hourswest['awayISO'], dfGameData['awayISO'])[1]))\n",
    "print (\"3 hours west traveled away pit. H/9 p value: \\t\\t\",(stats.ttest_ind(dfGameData3hourswest['away Pitching H/9'], dfGameData['away Pitching H/9'])[1]))\n",
    "print (\"3 hours west traveled away pit. BB/9 p value: \\t\\t\",(stats.ttest_ind(dfGameData3hourswest['away Pitching BB/9'], dfGameData['away Pitching BB/9'])[1]))\n",
    "print (\"3 hours west traveled away pit. K/9 p value: \\t\\t\",(stats.ttest_ind(dfGameData3hourswest['away Pitching K/9'], dfGameData['away Pitching K/9'])[1]))\n",
    "print (\"3 hours west traveled away pit. ERA p value: \\t\\t\",(stats.ttest_ind(dfGameData3hourswest['awayERA'], dfGameData['awayERA'])[1]))\n",
    "print (\"3 hours west traveled away pit. FIP p value: \\t\\t\",(stats.ttest_ind(dfGameData3hourswest['awayFIP'], dfGameData['awayFIP'])[1]))"
   ]
  },
  {
   "cell_type": "code",
   "execution_count": null,
   "metadata": {
    "collapsed": true
   },
   "outputs": [],
   "source": [
    "print (\"p values at 2 time zones traveled west\")\n",
    "print (\"--------------------------------------\")\n",
    "print (\"2 hours west traveled count: \\t\\t\\t\\t\",len(dfGameData2hourswest.index))\n",
    "print (\"2 hours west traveled away bat. R/9 p value: \\t\\t\",(stats.ttest_ind(dfGameData2hourswest['away Batting R/9'], dfGameData['away Batting R/9'])[1]))\n",
    "print (\"2 hours west traveled away bat. H/9 p value: \\t\\t\",(stats.ttest_ind(dfGameData2hourswest['away Batting H/9'], dfGameData['away Batting H/9'])[1]))\n",
    "print (\"2 hours west traveled away bat. BB/9 p value: \\t\\t\",(stats.ttest_ind(dfGameData2hourswest['away Batting BB/9'], dfGameData['away Batting BB/9'])[1]))\n",
    "print (\"2 hours west traveled away bat.  K/9 p value: \\t\\t\",(stats.ttest_ind(dfGameData2hourswest['away Batting K/9'], dfGameData['away Batting K/9'])[1]))\n",
    "print (\"2 hours west traveled away bat. BA p value: \\t\\t\",(stats.ttest_ind(dfGameData2hourswest['awayBA'], dfGameData['awayBA'])[1]))\n",
    "print (\"2 hours west traveled away bat. OBP p value: \\t\\t\",(stats.ttest_ind(dfGameData2hourswest['awayOBP'], dfGameData['awayOBP'])[1]))\n",
    "print (\"2 hours west traveled away bat. SLG p value: \\t\\t\",(stats.ttest_ind(dfGameData2hourswest['awaySLG'], dfGameData['awaySLG'])[1]))\n",
    "print (\"2 hours west traveled away bat. ISO p value: \\t\\t\",(stats.ttest_ind(dfGameData2hourswest['awayISO'], dfGameData['awayISO'])[1]))\n",
    "print (\"2 hours west traveled away pit. H/9 p value: \\t\\t\",(stats.ttest_ind(dfGameData2hourswest['away Pitching H/9'], dfGameData['away Pitching H/9'])[1]))\n",
    "print (\"2 hours west traveled away pit. BB/9 p value: \\t\\t\",(stats.ttest_ind(dfGameData2hourswest['away Pitching BB/9'], dfGameData['away Pitching BB/9'])[1]))\n",
    "print (\"2 hours west traveled away pit. K/9 p value: \\t\\t\",(stats.ttest_ind(dfGameData2hourswest['away Pitching K/9'], dfGameData['away Pitching K/9'])[1]))\n",
    "print (\"2 hours west traveled away pit. ERA p value: \\t\\t\",(stats.ttest_ind(dfGameData2hourswest['awayERA'], dfGameData['awayERA'])[1]))\n",
    "print (\"2 hours west traveled away pit. FIP p value: \\t\\t\",(stats.ttest_ind(dfGameData2hourswest['awayFIP'], dfGameData['awayFIP'])[1]))"
   ]
  },
  {
   "cell_type": "code",
   "execution_count": null,
   "metadata": {
    "collapsed": true
   },
   "outputs": [],
   "source": [
    "print (\"p values at 1 time zone traveled west\")\n",
    "print (\"-------------------------------------\")\n",
    "print (\"1 hour west traveled count: \\t\\t\\t\\t\",len(dfGameData1hourswest.index))\n",
    "print (\"1 hour west traveled away bat. R/9 p value: \\t\\t\",(stats.ttest_ind(dfGameData1hourswest['away Batting R/9'], dfGameData['away Batting R/9'])[1]))\n",
    "print (\"1 hour west traveled away bat. H/9 p value: \\t\\t\",(stats.ttest_ind(dfGameData1hourswest['away Batting H/9'], dfGameData['away Batting H/9'])[1]))\n",
    "print (\"1 hour west traveled away bat. BB/9 p value: \\t\\t\",(stats.ttest_ind(dfGameData1hourswest['away Batting BB/9'], dfGameData['away Batting BB/9'])[1]))\n",
    "print (\"1 hour west traveled away bat.  K/9 p value: \\t\\t\",(stats.ttest_ind(dfGameData1hourswest['away Batting K/9'], dfGameData['away Batting K/9'])[1]))\n",
    "print (\"1 hour west traveled away bat. BA p value: \\t\\t\",(stats.ttest_ind(dfGameData1hourswest['awayBA'], dfGameData['awayBA'])[1]))\n",
    "print (\"1 hour west traveled away bat. OBP p value: \\t\\t\",(stats.ttest_ind(dfGameData1hourswest['awayOBP'], dfGameData['awayOBP'])[1]))\n",
    "print (\"1 hour west traveled away bat. SLG p value: \\t\\t\",(stats.ttest_ind(dfGameData1hourswest['awaySLG'], dfGameData['awaySLG'])[1]))\n",
    "print (\"1 hour west traveled away bat. ISO p value: \\t\\t\",(stats.ttest_ind(dfGameData1hourswest['awayISO'], dfGameData['awayISO'])[1]))\n",
    "print (\"1 hour west traveled away pit. H/9 p value: \\t\\t\",(stats.ttest_ind(dfGameData1hourswest['away Pitching H/9'], dfGameData['away Pitching H/9'])[1]))\n",
    "print (\"1 hour west traveled away pit. BB/9 p value: \\t\\t\",(stats.ttest_ind(dfGameData1hourswest['away Pitching BB/9'], dfGameData['away Pitching BB/9'])[1]))\n",
    "print (\"1 hour west traveled away pit. K/9 p value: \\t\\t\",(stats.ttest_ind(dfGameData1hourswest['away Pitching K/9'], dfGameData['away Pitching K/9'])[1]))\n",
    "print (\"1 hour west traveled away pit. ERA p value: \\t\\t\",(stats.ttest_ind(dfGameData1hourswest['awayERA'], dfGameData['awayERA'])[1]))\n",
    "print (\"1 hour west traveled away pit. FIP p value: \\t\\t\",(stats.ttest_ind(dfGameData1hourswest['awayFIP'], dfGameData['awayFIP'])[1]))"
   ]
  },
  {
   "cell_type": "code",
   "execution_count": null,
   "metadata": {
    "collapsed": true
   },
   "outputs": [],
   "source": [
    "print (\"p values at 0 time zone traveled\")\n",
    "print (\"--------------------------------\")\n",
    "print (\"0 hours traveled count: \\t\\t\\t\\t\",len(dfGameData0hours.index))\n",
    "print (\"0 hours traveled away bat. R/9 p value: \\t\\t\",(stats.ttest_ind(dfGameData0hours['away Batting R/9'], dfGameData['away Batting R/9'])[1]))\n",
    "print (\"0 hours traveled away bat. H/9 p value: \\t\\t\",(stats.ttest_ind(dfGameData0hours['away Batting H/9'], dfGameData['away Batting H/9'])[1]))\n",
    "print (\"0 hours traveled away bat. BB/9 p value: \\t\\t\",(stats.ttest_ind(dfGameData0hours['away Batting BB/9'], dfGameData['away Batting BB/9'])[1]))\n",
    "print (\"0 hours traveled away bat.  K/9 p value: \\t\\t\",(stats.ttest_ind(dfGameData0hours['away Batting K/9'], dfGameData['away Batting K/9'])[1]))\n",
    "print (\"0 hours traveled away bat. BA p value: \\t\\t\\t\",(stats.ttest_ind(dfGameData0hours['awayBA'], dfGameData['awayBA'])[1]))\n",
    "print (\"0 hours traveled away bat. OBP p value: \\t\\t\",(stats.ttest_ind(dfGameData0hours['awayOBP'], dfGameData['awayOBP'])[1]))\n",
    "print (\"0 hours traveled away bat. SLG p value: \\t\\t\",(stats.ttest_ind(dfGameData0hours['awaySLG'], dfGameData['awaySLG'])[1]))\n",
    "print (\"0 hours traveled away bat. ISO p value: \\t\\t\",(stats.ttest_ind(dfGameData0hours['awayISO'], dfGameData['awayISO'])[1]))\n",
    "print (\"0 hours traveled away pit. H/9 p value: \\t\\t\",(stats.ttest_ind(dfGameData0hours['away Pitching H/9'], dfGameData['away Pitching H/9'])[1]))\n",
    "print (\"0 hours traveled away pit. BB/9 p value: \\t\\t\",(stats.ttest_ind(dfGameData0hours['away Pitching BB/9'], dfGameData['away Pitching BB/9'])[1]))\n",
    "print (\"0 hours traveled away pit. K/9 p value: \\t\\t\",(stats.ttest_ind(dfGameData0hours['away Pitching K/9'], dfGameData['away Pitching K/9'])[1]))\n",
    "print (\"0 hours traveled away pit. ERA p value: \\t\\t\",(stats.ttest_ind(dfGameData0hours['awayERA'], dfGameData['awayERA'])[1]))\n",
    "print (\"0 hours traveled away pit. FIP p value: \\t\\t\",(stats.ttest_ind(dfGameData0hours['awayFIP'], dfGameData['awayFIP'])[1]))"
   ]
  },
  {
   "cell_type": "code",
   "execution_count": null,
   "metadata": {
    "collapsed": true
   },
   "outputs": [],
   "source": [
    "print (\"p values at 1 time zone traveled east\")\n",
    "print (\"-------------------------------------\")\n",
    "print (\"1 hour east traveled count: \\t\\t\\t\\t\",len(dfGameData1hourseast.index))\n",
    "print (\"1 hour east traveled away bat. R/9 p value: \\t\\t\",(stats.ttest_ind(dfGameData1hourseast['away Batting R/9'], dfGameData['away Batting R/9'])[1]))\n",
    "print (\"1 hour east traveled away bat. H/9 p value: \\t\\t\",(stats.ttest_ind(dfGameData1hourseast['away Batting H/9'], dfGameData['away Batting H/9'])[1]))\n",
    "print (\"1 hour east traveled away bat. BB/9 p value: \\t\\t\",(stats.ttest_ind(dfGameData1hourseast['away Batting BB/9'], dfGameData['away Batting BB/9'])[1]))\n",
    "print (\"1 hour east traveled away bat.  K/9 p value: \\t\\t\",(stats.ttest_ind(dfGameData1hourseast['away Batting K/9'], dfGameData['away Batting K/9'])[1]))\n",
    "print (\"1 hour east traveled away bat. BA p value: \\t\\t\",(stats.ttest_ind(dfGameData1hourseast['awayBA'], dfGameData['awayBA'])[1]))\n",
    "print (\"1 hour east traveled away bat. OBP p value: \\t\\t\",(stats.ttest_ind(dfGameData1hourseast['awayOBP'], dfGameData['awayOBP'])[1]))\n",
    "print (\"1 hour east traveled away bat. SLG p value: \\t\\t\",(stats.ttest_ind(dfGameData1hourseast['awaySLG'], dfGameData['awaySLG'])[1]))\n",
    "print (\"1 hour east traveled away bat. ISO p value: \\t\\t\",(stats.ttest_ind(dfGameData1hourseast['awayISO'], dfGameData['awayISO'])[1]))\n",
    "print (\"1 hour east traveled away pit. H/9 p value: \\t\\t\",(stats.ttest_ind(dfGameData1hourseast['away Pitching H/9'], dfGameData['away Pitching H/9'])[1]))\n",
    "print (\"1 hour east traveled away pit. BB/9 p value: \\t\\t\",(stats.ttest_ind(dfGameData1hourseast['away Pitching BB/9'], dfGameData['away Pitching BB/9'])[1]))\n",
    "print (\"1 hour east traveled away pit. K/9 p value: \\t\\t\",(stats.ttest_ind(dfGameData1hourseast['away Pitching K/9'], dfGameData['away Pitching K/9'])[1]))\n",
    "print (\"1 hour east traveled away pit. ERA p value: \\t\\t\",(stats.ttest_ind(dfGameData1hourseast['awayERA'], dfGameData['awayERA'])[1]))\n",
    "print (\"1 hour east traveled away pit. FIP p value: \\t\\t\",(stats.ttest_ind(dfGameData1hourseast['awayFIP'], dfGameData['awayFIP'])[1]))"
   ]
  },
  {
   "cell_type": "code",
   "execution_count": null,
   "metadata": {
    "collapsed": true
   },
   "outputs": [],
   "source": [
    "print (\"p values at 2 time zones traveled east\")\n",
    "print (\"--------------------------------------\")\n",
    "print (\"2 hours east traveled count: \\t\\t\\t\\t\",len(dfGameData2hourseast.index))\n",
    "print (\"2 hours east traveled away bat. R/9 p value: \\t\\t\",(stats.ttest_ind(dfGameData2hourseast['away Batting R/9'], dfGameData['away Batting R/9'])[1]))\n",
    "print (\"2 hours east traveled away bat. H/9 p value: \\t\\t\",(stats.ttest_ind(dfGameData2hourseast['away Batting H/9'], dfGameData['away Batting H/9'])[1]))\n",
    "print (\"2 hours east traveled away bat. BB/9 p value: \\t\\t\",(stats.ttest_ind(dfGameData2hourseast['away Batting BB/9'], dfGameData['away Batting BB/9'])[1]))\n",
    "print (\"2 hours east traveled away bat.  K/9 p value: \\t\\t\",(stats.ttest_ind(dfGameData2hourseast['away Batting K/9'], dfGameData['away Batting K/9'])[1]))\n",
    "print (\"2 hours east traveled away bat. BA p value: \\t\\t\",(stats.ttest_ind(dfGameData2hourseast['awayBA'], dfGameData['awayBA'])[1]))\n",
    "print (\"2 hours east traveled away bat. OBP p value: \\t\\t\",(stats.ttest_ind(dfGameData2hourseast['awayOBP'], dfGameData['awayOBP'])[1]))\n",
    "print (\"2 hours east traveled away bat. SLG p value: \\t\\t\",(stats.ttest_ind(dfGameData2hourseast['awaySLG'], dfGameData['awaySLG'])[1]))\n",
    "print (\"2 hours east traveled away bat. ISO p value: \\t\\t\",(stats.ttest_ind(dfGameData2hourseast['awayISO'], dfGameData['awayISO'])[1]))\n",
    "print (\"2 hours east traveled away pit. H/9 p value: \\t\\t\",(stats.ttest_ind(dfGameData2hourseast['away Pitching H/9'], dfGameData['away Pitching H/9'])[1]))\n",
    "print (\"2 hours east traveled away pit. BB/9 p value: \\t\\t\",(stats.ttest_ind(dfGameData2hourseast['away Pitching BB/9'], dfGameData['away Pitching BB/9'])[1]))\n",
    "print (\"2 hours east traveled away pit. K/9 p value: \\t\\t\",(stats.ttest_ind(dfGameData2hourseast['away Pitching K/9'], dfGameData['away Pitching K/9'])[1]))\n",
    "print (\"2 hours east traveled away pit. ERA p value: \\t\\t\",(stats.ttest_ind(dfGameData2hourseast['awayERA'], dfGameData['awayERA'])[1]))\n",
    "print (\"2 hours east traveled away pit. FIP p value: \\t\\t\",(stats.ttest_ind(dfGameData2hourseast['awayFIP'], dfGameData['awayFIP'])[1]))"
   ]
  },
  {
   "cell_type": "code",
   "execution_count": null,
   "metadata": {
    "collapsed": true
   },
   "outputs": [],
   "source": [
    "print (\"p values at 3 time zones traveled east\")\n",
    "print (\"--------------------------------------\")\n",
    "print (\"3 hours east traveled count: \\t\\t\\t\\t\",len(dfGameData3hourseast.index))\n",
    "print (\"3 hours east traveled away bat. R/9 p value: \\t\\t\",(stats.ttest_ind(dfGameData3hourseast['away Batting R/9'], dfGameData['away Batting R/9'])[1]))\n",
    "print (\"3 hours east traveled away bat. H/9 p value: \\t\\t\",(stats.ttest_ind(dfGameData3hourseast['away Batting H/9'], dfGameData['away Batting H/9'])[1]))\n",
    "print (\"3 hours east traveled away bat. BB/9 p value: \\t\\t\",(stats.ttest_ind(dfGameData3hourseast['away Batting BB/9'], dfGameData['away Batting BB/9'])[1]))\n",
    "print (\"3 hours east traveled away bat.  K/9 p value: \\t\\t\",(stats.ttest_ind(dfGameData3hourseast['away Batting K/9'], dfGameData['away Batting K/9'])[1]))\n",
    "print (\"3 hours east traveled away bat. BA p value: \\t\\t\",(stats.ttest_ind(dfGameData3hourseast['awayBA'], dfGameData['awayBA'])[1]))\n",
    "print (\"3 hours east traveled away bat. OBP p value: \\t\\t\",(stats.ttest_ind(dfGameData3hourseast['awayOBP'], dfGameData['awayOBP'])[1]))\n",
    "print (\"3 hours east traveled away bat. SLG p value: \\t\\t\",(stats.ttest_ind(dfGameData3hourseast['awaySLG'], dfGameData['awaySLG'])[1]))\n",
    "print (\"3 hours east traveled away bat. ISO p value: \\t\\t\",(stats.ttest_ind(dfGameData3hourseast['awayISO'], dfGameData['awayISO'])[1]))\n",
    "print (\"3 hours east traveled away pit. H/9 p value: \\t\\t\",(stats.ttest_ind(dfGameData3hourseast['away Pitching H/9'], dfGameData['away Pitching H/9'])[1]))\n",
    "print (\"3 hours east traveled away pit. BB/9 p value: \\t\\t\",(stats.ttest_ind(dfGameData3hourseast['away Pitching BB/9'], dfGameData['away Pitching BB/9'])[1]))\n",
    "print (\"3 hours east traveled away pit. K/9 p value: \\t\\t\",(stats.ttest_ind(dfGameData3hourseast['away Pitching K/9'], dfGameData['away Pitching K/9'])[1]))\n",
    "print (\"3 hours east traveled away pit. ERA p value: \\t\\t\",(stats.ttest_ind(dfGameData3hourseast['awayERA'], dfGameData['awayERA'])[1]))\n",
    "print (\"3 hours east traveled away pit. FIP p value: \\t\\t\",(stats.ttest_ind(dfGameData3hourseast['awayFIP'], dfGameData['awayFIP'])[1]))"
   ]
  },
  {
   "cell_type": "code",
   "execution_count": 5,
   "metadata": {
    "collapsed": true
   },
   "outputs": [],
   "source": [
    "#Adjusted run weights for each of the travel distances \n",
    "#and time zones, if significant, returns bat, pit\n",
    "\n",
    "def run_change_miles(distance):\n",
    "    \n",
    "    if distance < 500:\n",
    "        return [1, 1]\n",
    "    \n",
    "    if distance >= 500 and distance < 1000:\n",
    "        return [1, 1]\n",
    "    \n",
    "    if distance >= 1000 and distance < 2000:\n",
    "        return [1, 1]\n",
    "    \n",
    "    if distance >= 2000:\n",
    "        return [(4.469/4.363), (4.261/4.146)]\n",
    "    \n",
    "def run_change_tz(time_zone):\n",
    "    \n",
    "    if time_zone == -3:\n",
    "        return [(4.469/4.195), (4.261/3.994)]\n",
    "    \n",
    "    if time_zone == -2:\n",
    "        return [1, 1]\n",
    "    \n",
    "    if time_zone == -1:\n",
    "        return [(4.469/4.591), (4.261/4.391)]\n",
    "    \n",
    "    if time_zone == 0:\n",
    "        return [1, 1]\n",
    "    \n",
    "    if time_zone == 1:\n",
    "        return [(4.469/4.558), (4.261/4.344)]\n",
    "    \n",
    "    if time_zone == 2:\n",
    "        return [1, 1]\n",
    "    \n",
    "    if time_zone == 3:\n",
    "        return [1, 1]"
   ]
  }
 ],
 "metadata": {
  "kernelspec": {
   "display_name": "Python 3",
   "language": "python",
   "name": "python3"
  },
  "language_info": {
   "codemirror_mode": {
    "name": "ipython",
    "version": 3
   },
   "file_extension": ".py",
   "mimetype": "text/x-python",
   "name": "python",
   "nbconvert_exporter": "python",
   "pygments_lexer": "ipython3",
   "version": "3.6.3"
  }
 },
 "nbformat": 4,
 "nbformat_minor": 2
}
